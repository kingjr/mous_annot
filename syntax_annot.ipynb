{
 "cells": [
  {
   "cell_type": "code",
   "execution_count": 1,
   "metadata": {},
   "outputs": [
    {
     "data": {
      "text/html": [
       "<style>\n",
       "#notebook-container {width: 100%;}\n",
       "</style>"
      ],
      "text/plain": [
       "<IPython.core.display.HTML object>"
      ]
     },
     "metadata": {},
     "output_type": "display_data"
    }
   ],
   "source": [
    "%%html\n",
    "<style>\n",
    "#notebook-container {width: 100%;}\n",
    "</style>"
   ]
  },
  {
   "cell_type": "code",
   "execution_count": 2,
   "metadata": {},
   "outputs": [],
   "source": [
    "%matplotlib inline\n",
    "\n",
    "import os\n",
    "import numpy as np\n",
    "import pandas as pd\n",
    "import matplotlib.pyplot as plt\n",
    "import spacy\n",
    "from spacy import displacy\n",
    "from ipywidgets import interact, Dropdown, SelectionSlider, HBox, VBox\n",
    "import ipywidgets as widgets\n",
    "from IPython.display import clear_output\n",
    "from ast import literal_eval"
   ]
  },
  {
   "cell_type": "code",
   "execution_count": 6,
   "metadata": {},
   "outputs": [],
   "source": [
    "class Tree():\n",
    "    \"\"\"Simple tree class for easy manipulation of the dependency trees\n",
    "\n",
    "    e.g. Tree({'text': 'is', 'idx': 1}, \n",
    "             [Tree({'text': 'He', 'idx': 0}),\n",
    "              Tree({'text': 'here', 'idx': 2})])\n",
    "    \"\"\"\n",
    "\n",
    "    def __init__(self, attributes, children=[]):\n",
    "        self.attributes = attributes\n",
    "        self.children = children\n",
    "        for child in self.children:\n",
    "            child.parent = self\n",
    "\n",
    "    def __repr__(self):\n",
    "        txt = self.attributes['text']\n",
    "        if len(self.children):\n",
    "            txt += '(' + ' '.join(list(map(str, self.children))) + ')'\n",
    "        return txt\n",
    "\n",
    "    def __hash__(self, depth=0):\n",
    "        txt = '(' + str(self.attributes)\n",
    "        if len(self.children):\n",
    "            txt += ','\n",
    "            tab = '\\n' + '     '.join([' '] * (depth+1))\n",
    "            children = [tab + c.__hash__(depth=depth+1) for c in self.children]\n",
    "            txt += '[' + ','.join(children) + ']'\n",
    "        return txt + ')'\n",
    "\n",
    "\n",
    "def spacy_to_tree(node):\n",
    "    \"\"\"Get spacy's dependency tree\n",
    "    e.g.\n",
    "    nlp = spacy.load('en_core_web_sm')\n",
    "    doc = nlp('He is here')\n",
    "    root = next(doc.sents).root\n",
    "    tree = spacy_to_tree(root)\n",
    "    \"\"\"\n",
    "    attributes = dict(text=node.text, tag=node.pos_,\n",
    "                      idx=node.i,  dep=node.dep_)\n",
    "    return Tree(attributes, list(map(spacy_to_tree, node.children)))\n",
    "\n",
    "\n",
    "def modify_tree(doc):\n",
    "    \"\"\"Interactive plotting: expect spacy doc structure\n",
    "    e.g.\n",
    "    doc = nlp('He is here')\n",
    "    modify_tree(doc)\n",
    "    \"\"\"\n",
    "    \n",
    "    def get_html(doc, init=False):\n",
    "        html = displacy.render(doc, style=\"dep\", jupyter=False,\n",
    "                               options=dict(distance=80))\n",
    "        # add preview of compressed tree\n",
    "        html += '\\n\\n\\n' + str(spacy_to_tree(next(doc.sents).root))\n",
    "        return html\n",
    "\n",
    "    # Init parse widgets\n",
    "    html = widgets.HTML(values=get_html(doc, init=True))\n",
    "    out = widgets.Output()\n",
    "    edges = [SelectionSlider(options=[w.text + '_%i' % w.i for w in doc],\n",
    "                             value=str(word.head) + '_%i' % word.head.i,\n",
    "                             description=str(word))\n",
    "             for word in doc]\n",
    "    dep = ('ROOT', 'acl', 'acomp', 'advcl', 'advmod', 'agent', 'amod', 'appos', 'attr',\n",
    "           'aux', 'auxpass', 'case', 'cc', 'ccomp', 'compound', 'compound:prt', 'conj',\n",
    "           'cop', 'csubj', 'dative', 'dep', 'det', 'det:nummod', 'dobj', 'expl', 'expl:pv',\n",
    "           'flat', 'intj', 'iobj', 'mark', 'meta', 'neg', 'nmod', 'npadvmod', 'nsubj',\n",
    "           'nsubjpass', 'nummod', 'obj', 'obl', 'oprd', 'parataxis', 'pcomp', 'pobj',\n",
    "           'poss', 'preconj', 'predet', 'prep', 'prt', 'punct', 'quantmod', 'relcl',\n",
    "           'subtok', 'xcomp')\n",
    "    \n",
    "    dep = [Dropdown(options=dep, value=str(word.dep_), description=' ')\n",
    "           for word in doc]\n",
    "\n",
    "    def plot_tree(*args, **kwargs):\n",
    "        # Update values\n",
    "        for word, c in zip(doc, edges):\n",
    "            word.head = [w for w in doc][c.index]\n",
    "\n",
    "        for word, value in zip(doc, dep):\n",
    "            word.dep_ = value.value\n",
    "\n",
    "        html.value = get_html(doc)\n",
    "\n",
    "    # interaction controls\n",
    "    controls = np.ravel([z for z in zip(edges, dep)])\n",
    "    interact(plot_tree, **dict(('w%i' % i, v) for i, v in enumerate(controls)))\n",
    "    clear_output(wait=True)\n",
    "\n",
    "    # plot\n",
    "    display(VBox([HBox([VBox(edges), VBox(dep)]), html]))\n",
    "\n",
    "    \n",
    "class InteractiveTree():\n",
    "    def __init__(self, sentences, nlp, data_path='./'):\n",
    "        self.sentences = sentences\n",
    "        self.nlp = nlp\n",
    "        self.data_path = data_path\n",
    "        \n",
    "        self.select = SelectionSlider(options=sentences.index, description='sentence id')\n",
    "        self.select.on_trait_change(self.load)\n",
    "        \n",
    "        self.save_button = widgets.Button(description='save')\n",
    "        self.save_button.on_click(self.save)\n",
    "        \n",
    "        self.reset_button = widgets.Button(description='reset')\n",
    "        self.reset_button.on_click(self.reset)\n",
    "\n",
    "        self.load_button = widgets.Button(description='load')\n",
    "        self.load_button.on_click(self.load)\n",
    "        \n",
    "        self.load()\n",
    "        self.update()\n",
    "\n",
    "    def update(self,):\n",
    "        interact(modify_tree(self.doc_),\n",
    "                 index=self.select,\n",
    "                 load=self.load_button,\n",
    "                 reset=self.reset_button)\n",
    "        display(HBox([self.select, self.save_button, self.load_button, self.reset_button]))\n",
    "    \n",
    "    def reset(self, *args, **kwargs):\n",
    "        self.doc_ = self.nlp(self.sentences.loc[self.select.value])\n",
    "        self.update()\n",
    "\n",
    "    def load(self, *args, **kwargs):\n",
    "        try:\n",
    "            fname = os.path.join(data_path, '%i_parsed.json' % self.select.value)\n",
    "            with open(fname, 'r') as f:\n",
    "                json = literal_eval(f.readlines()[0])\n",
    "            doc = nlp(json['text'])\n",
    "            for w, token in zip(doc, json['tokens']):\n",
    "                w.pos_ = token['pos']\n",
    "                w.head = doc[token['head']]\n",
    "                w.dep_ = token['dep']\n",
    "            print(str(spacy_to_tree(next(doc.sents).root)))\n",
    "            self.doc_ = doc\n",
    "        except Exception:\n",
    "            print('default parsing!')\n",
    "            self.reset()\n",
    "        self.update()\n",
    "        return self.doc_\n",
    "\n",
    "    def save(self, *args, **kwargs):\n",
    "        fname = os.path.join(self.data_path, '%i_parsed.json' % self.select.value)\n",
    "        with open(fname, 'w') as f:\n",
    "            f.write(str(self.doc_.to_json()))\n",
    "        print('saving %s' % fname)\n",
    "        print(str(spacy_to_tree(next(self.doc_.sents).root)))"
   ]
  },
  {
   "cell_type": "code",
   "execution_count": 7,
   "metadata": {},
   "outputs": [],
   "source": [
    "nlp_nl = spacy.load('nl_core_news_sm')\n",
    "nlp_en = spacy.load('en_core_web_sm')\n",
    "\n",
    "# read dutch sentences and google translation\n",
    "dutch_stim = 'stimuli.csv'\n",
    "dutch_stim = pd.read_csv(dutch_stim, index_col='index')\n",
    "\n",
    "english_stim = 'stimuli_translated.csv'\n",
    "english_stim = pd.read_csv(english_stim, index_col='index')"
   ]
  },
  {
   "cell_type": "code",
   "execution_count": 8,
   "metadata": {},
   "outputs": [
    {
     "data": {
      "application/vnd.jupyter.widget-view+json": {
       "model_id": "45ff53020dec44739cdd6b4fc70954d9",
       "version_major": 2,
       "version_minor": 0
      },
      "text/plain": [
       "VBox(children=(HBox(children=(VBox(children=(SelectionSlider(description='When', index=8, options=('When_0', '…"
      ]
     },
     "metadata": {},
     "output_type": "display_data"
    },
    {
     "data": {
      "application/vnd.jupyter.widget-view+json": {
       "model_id": "39042fec119f407d954fe9809b6e3478",
       "version_major": 2,
       "version_minor": 0
      },
      "text/plain": [
       "HBox(children=(SelectionSlider(description='sentence id', options=(1, 2, 3, 4, 5, 6, 7, 8, 9, 10, 11, 12, 13, …"
      ]
     },
     "metadata": {},
     "output_type": "display_data"
    }
   ],
   "source": [
    "sentences = english_stim.sequence\n",
    "nlp = nlp_en\n",
    "\n",
    "# For duch simply do:\n",
    "# sentences = dutch_stim.sequence\n",
    "# nlp = nlp_nl\n",
    "\n",
    "data_path = './'\n",
    "itree = InteractiveTree(sentences, nlp, data_path)"
   ]
  },
  {
   "cell_type": "code",
   "execution_count": null,
   "metadata": {},
   "outputs": [],
   "source": []
  }
 ],
 "metadata": {
  "kernelspec": {
   "display_name": "Python 3",
   "language": "python",
   "name": "python3"
  },
  "language_info": {
   "codemirror_mode": {
    "name": "ipython",
    "version": 3
   },
   "file_extension": ".py",
   "mimetype": "text/x-python",
   "name": "python",
   "nbconvert_exporter": "python",
   "pygments_lexer": "ipython3",
   "version": "3.6.8"
  },
  "varInspector": {
   "cols": {
    "lenName": 16,
    "lenType": 16,
    "lenVar": 40
   },
   "kernels_config": {
    "python": {
     "delete_cmd_postfix": "",
     "delete_cmd_prefix": "del ",
     "library": "var_list.py",
     "varRefreshCmd": "print(var_dic_list())"
    },
    "r": {
     "delete_cmd_postfix": ") ",
     "delete_cmd_prefix": "rm(",
     "library": "var_list.r",
     "varRefreshCmd": "cat(var_dic_list()) "
    }
   },
   "types_to_exclude": [
    "module",
    "function",
    "builtin_function_or_method",
    "instance",
    "_Feature"
   ],
   "window_display": false
  }
 },
 "nbformat": 4,
 "nbformat_minor": 2
}
